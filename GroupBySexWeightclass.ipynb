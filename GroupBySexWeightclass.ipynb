{
 "cells": [
  {
   "cell_type": "code",
   "execution_count": 1,
   "metadata": {},
   "outputs": [],
   "source": [
    "import pandas as pd\n",
    "import numpy as np\n",
    "%matplotlib inline\n",
    "import matplotlib.pyplot as plt"
   ]
  },
  {
   "cell_type": "code",
   "execution_count": 2,
   "metadata": {},
   "outputs": [],
   "source": [
    "df = pd.read_csv('data.csv')"
   ]
  },
  {
   "cell_type": "code",
   "execution_count": 3,
   "metadata": {
    "scrolled": true
   },
   "outputs": [
    {
     "data": {
      "text/html": [
       "<div>\n",
       "<style scoped>\n",
       "    .dataframe tbody tr th:only-of-type {\n",
       "        vertical-align: middle;\n",
       "    }\n",
       "\n",
       "    .dataframe tbody tr th {\n",
       "        vertical-align: top;\n",
       "    }\n",
       "\n",
       "    .dataframe thead th {\n",
       "        text-align: right;\n",
       "    }\n",
       "</style>\n",
       "<table border=\"1\" class=\"dataframe\">\n",
       "  <thead>\n",
       "    <tr style=\"text-align: right;\">\n",
       "      <th></th>\n",
       "      <th>Best3SquatKg</th>\n",
       "      <th>Best3BenchKg</th>\n",
       "      <th>Best3DeadliftKg</th>\n",
       "    </tr>\n",
       "    <tr>\n",
       "      <th>Sex</th>\n",
       "      <th></th>\n",
       "      <th></th>\n",
       "      <th></th>\n",
       "    </tr>\n",
       "  </thead>\n",
       "  <tbody>\n",
       "    <tr>\n",
       "      <th>F</th>\n",
       "      <td>122.427062</td>\n",
       "      <td>72.048116</td>\n",
       "      <td>139.487834</td>\n",
       "    </tr>\n",
       "    <tr>\n",
       "      <th>M</th>\n",
       "      <td>221.506004</td>\n",
       "      <td>155.879557</td>\n",
       "      <td>236.516004</td>\n",
       "    </tr>\n",
       "  </tbody>\n",
       "</table>\n",
       "</div>"
      ],
      "text/plain": [
       "     Best3SquatKg  Best3BenchKg  Best3DeadliftKg\n",
       "Sex                                             \n",
       "F      122.427062     72.048116       139.487834\n",
       "M      221.506004    155.879557       236.516004"
      ]
     },
     "execution_count": 3,
     "metadata": {},
     "output_type": "execute_result"
    }
   ],
   "source": [
    "# Mean Best Lift(Kg) per Category by Sex\n",
    "group_sex = df[['Best3SquatKg','Best3BenchKg','Best3DeadliftKg']].groupby(df['Sex'])\n",
    "group_sex.mean()"
   ]
  },
  {
   "cell_type": "code",
   "execution_count": 4,
   "metadata": {},
   "outputs": [
    {
     "data": {
      "image/png": "[encoded data removed]",
      "text/plain": [
       "<Figure size 432x288 with 1 Axes>"
      ]
     },
     "metadata": {
      "needs_background": "light"
     },
     "output_type": "display_data"
    }
   ],
   "source": [
    "labels = ['Squat','Bench','Deadlift']\n",
    "f_means = [122.43,72.05,139.49]\n",
    "m_means = [221.51,155.88,236.52]\n",
    "\n",
    "x = np.arange(len(labels))\n",
    "width = 0.35\n",
    "\n",
    "fig, ax = plt.subplots()\n",
    "bars1 = ax.bar(x - width/2, m_means, width, label='Male',color='xkcd:azure')\n",
    "bars2 = ax.bar(x + width/2, f_means, width, label='Female',color='xkcd:coral')\n",
    "\n",
    "ax.set_ylabel('Mean Best Lift(Kg)')\n",
    "ax.set_title('Mean Best Lift(Kg) per Category by Sex')\n",
    "ax.set_xticks(x)\n",
    "ax.set_xticklabels(labels)\n",
    "ax.legend(bbox_to_anchor=(1.05,1),loc='upper left',borderaxespad=0)\n",
    "\n",
    "def autolabel(bars):\n",
    "    for bar in bars:\n",
    "        height = bar.get_height()\n",
    "        ax.annotate('{}'.format(height),\n",
    "                    xy=(bar.get_x() + bar.get_width()/2, height),\n",
    "                    xytext=(0,1),\n",
    "                    textcoords='offset points',\n",
    "                    ha='center', va='bottom')\n",
    "\n",
    "autolabel(bars1)\n",
    "autolabel(bars2)"
   ]
  },
  {
   "cell_type": "code",
   "execution_count": 5,
   "metadata": {
    "scrolled": false
   },
   "outputs": [
    {
     "data": {
      "text/html": [
       "<div>\n",
       "<style scoped>\n",
       "    .dataframe tbody tr th:only-of-type {\n",
       "        vertical-align: middle;\n",
       "    }\n",
       "\n",
       "    .dataframe tbody tr th {\n",
       "        vertical-align: top;\n",
       "    }\n",
       "\n",
       "    .dataframe thead th {\n",
       "        text-align: right;\n",
       "    }\n",
       "</style>\n",
       "<table border=\"1\" class=\"dataframe\">\n",
       "  <thead>\n",
       "    <tr style=\"text-align: right;\">\n",
       "      <th></th>\n",
       "      <th></th>\n",
       "      <th>Best3SquatKg</th>\n",
       "      <th>Best3BenchKg</th>\n",
       "      <th>Best3DeadliftKg</th>\n",
       "    </tr>\n",
       "    <tr>\n",
       "      <th>Sex</th>\n",
       "      <th>WeightClassKg</th>\n",
       "      <th></th>\n",
       "      <th></th>\n",
       "      <th></th>\n",
       "    </tr>\n",
       "  </thead>\n",
       "  <tbody>\n",
       "    <tr>\n",
       "      <th rowspan=\"8\" valign=\"top\">F</th>\n",
       "      <th>43</th>\n",
       "      <td>85.489565</td>\n",
       "      <td>49.233966</td>\n",
       "      <td>102.461621</td>\n",
       "    </tr>\n",
       "    <tr>\n",
       "      <th>47</th>\n",
       "      <td>102.252328</td>\n",
       "      <td>59.464479</td>\n",
       "      <td>116.687609</td>\n",
       "    </tr>\n",
       "    <tr>\n",
       "      <th>52</th>\n",
       "      <td>108.502544</td>\n",
       "      <td>62.954226</td>\n",
       "      <td>124.395891</td>\n",
       "    </tr>\n",
       "    <tr>\n",
       "      <th>57</th>\n",
       "      <td>112.074793</td>\n",
       "      <td>65.603777</td>\n",
       "      <td>129.606099</td>\n",
       "    </tr>\n",
       "    <tr>\n",
       "      <th>63</th>\n",
       "      <td>115.876804</td>\n",
       "      <td>68.145109</td>\n",
       "      <td>134.631401</td>\n",
       "    </tr>\n",
       "    <tr>\n",
       "      <th>72</th>\n",
       "      <td>122.847124</td>\n",
       "      <td>72.527608</td>\n",
       "      <td>141.278745</td>\n",
       "    </tr>\n",
       "    <tr>\n",
       "      <th>84</th>\n",
       "      <td>133.520467</td>\n",
       "      <td>79.056044</td>\n",
       "      <td>150.053216</td>\n",
       "    </tr>\n",
       "    <tr>\n",
       "      <th>84+</th>\n",
       "      <td>142.200299</td>\n",
       "      <td>84.639587</td>\n",
       "      <td>154.947402</td>\n",
       "    </tr>\n",
       "    <tr>\n",
       "      <th rowspan=\"9\" valign=\"top\">M</th>\n",
       "      <th>105</th>\n",
       "      <td>233.485026</td>\n",
       "      <td>165.427191</td>\n",
       "      <td>248.516489</td>\n",
       "    </tr>\n",
       "    <tr>\n",
       "      <th>120</th>\n",
       "      <td>254.146786</td>\n",
       "      <td>181.901624</td>\n",
       "      <td>260.980451</td>\n",
       "    </tr>\n",
       "    <tr>\n",
       "      <th>120+</th>\n",
       "      <td>281.551497</td>\n",
       "      <td>201.334848</td>\n",
       "      <td>274.613922</td>\n",
       "    </tr>\n",
       "    <tr>\n",
       "      <th>53</th>\n",
       "      <td>153.478647</td>\n",
       "      <td>100.236191</td>\n",
       "      <td>163.224071</td>\n",
       "    </tr>\n",
       "    <tr>\n",
       "      <th>59</th>\n",
       "      <td>162.092965</td>\n",
       "      <td>109.436578</td>\n",
       "      <td>179.747801</td>\n",
       "    </tr>\n",
       "    <tr>\n",
       "      <th>66</th>\n",
       "      <td>170.070802</td>\n",
       "      <td>115.037449</td>\n",
       "      <td>191.761303</td>\n",
       "    </tr>\n",
       "    <tr>\n",
       "      <th>74</th>\n",
       "      <td>185.013378</td>\n",
       "      <td>126.202250</td>\n",
       "      <td>207.313051</td>\n",
       "    </tr>\n",
       "    <tr>\n",
       "      <th>83</th>\n",
       "      <td>204.327184</td>\n",
       "      <td>140.125543</td>\n",
       "      <td>223.905468</td>\n",
       "    </tr>\n",
       "    <tr>\n",
       "      <th>93</th>\n",
       "      <td>216.498291</td>\n",
       "      <td>151.581631</td>\n",
       "      <td>235.360285</td>\n",
       "    </tr>\n",
       "  </tbody>\n",
       "</table>\n",
       "</div>"
      ],
      "text/plain": [
       "                   Best3SquatKg  Best3BenchKg  Best3DeadliftKg\n",
       "Sex WeightClassKg                                             \n",
       "F   43                85.489565     49.233966       102.461621\n",
       "    47               102.252328     59.464479       116.687609\n",
       "    52               108.502544     62.954226       124.395891\n",
       "    57               112.074793     65.603777       129.606099\n",
       "    63               115.876804     68.145109       134.631401\n",
       "    72               122.847124     72.527608       141.278745\n",
       "    84               133.520467     79.056044       150.053216\n",
       "    84+              142.200299     84.639587       154.947402\n",
       "M   105              233.485026    165.427191       248.516489\n",
       "    120              254.146786    181.901624       260.980451\n",
       "    120+             281.551497    201.334848       274.613922\n",
       "    53               153.478647    100.236191       163.224071\n",
       "    59               162.092965    109.436578       179.747801\n",
       "    66               170.070802    115.037449       191.761303\n",
       "    74               185.013378    126.202250       207.313051\n",
       "    83               204.327184    140.125543       223.905468\n",
       "    93               216.498291    151.581631       235.360285"
      ]
     },
     "execution_count": 5,
     "metadata": {},
     "output_type": "execute_result"
    }
   ],
   "source": [
    "# Mean Best Lift(Kg) per Category by Weight Class and Sex\n",
    "group_sex_weight = df[['Best3SquatKg','Best3BenchKg','Best3DeadliftKg']].groupby([df['Sex'],df['WeightClassKg']])\n",
    "group_sex_weight.mean()"
   ]
  },
  {
   "cell_type": "code",
   "execution_count": 13,
   "metadata": {},
   "outputs": [
    {
     "data": {
      "image/png": "[encoded data removed]",
      "text/plain": [
       "<Figure size 360x720 with 3 Axes>"
      ]
     },
     "metadata": {
      "needs_background": "light"
     },
     "output_type": "display_data"
    }
   ],
   "source": [
    "f_class = [43,47,52,57,63,72,84,100]\n",
    "f_squat = [85.49,102.25,108.50,112.07,115.88,122.85,133.52,142.20]\n",
    "f_bench = [49.23,59.46,62.95,65.60,68.15,72.53,79.06,84.64]\n",
    "f_deadlift = [102.46,116.69,124.40,129.61,134.63,141.28,150.05,154.95]\n",
    "m_class = [53,59,66,74,83,93,105,120,140]\n",
    "m_squat = [153.48,162.09,170.07,185.01,204.33,216.50,233.49,254.49,281.55]\n",
    "m_bench = [100.24,109.44,115.04,126.20,140.13,151.58,165.43,181.90,201.33]\n",
    "m_deadlift = [163.22,179.75,191.76,207.31,223.91,235.36,248.52,260.98,274.61]\n",
    "\n",
    "f, (ax1, ax2, ax3) = plt.subplots(3,1,figsize=(5,10), sharex=True)\n",
    "\n",
    "ax1.set_title('Squat(Kg)')\n",
    "ax1.plot(f_class,f_squat,color='xkcd:coral', label='Female', marker = 'x')\n",
    "ax1.plot(m_class,m_squat,color='xkcd:azure', label='Male', marker = 'x')\n",
    "ax1.set_xlabel('Weight Class(Kg)')\n",
    "ax1.set_ylabel('Mean Best Lift(Kg)')\n",
    "ax1.legend(bbox_to_anchor=(1.05,1),loc=0,borderaxespad=0)\n",
    "\n",
    "ax2.set_title('Bench(Kg)')\n",
    "ax2.plot(f_class,f_bench,color='xkcd:coral', label='Female', marker = 'x')\n",
    "ax2.plot(m_class,m_bench,color='xkcd:azure', label='Male', marker = 'x')\n",
    "ax2.set_xlabel('Weight Class(Kg)')\n",
    "ax2.set_ylabel('Mean Best Lift(Kg)')\n",
    "\n",
    "ax3.set_title('Deadlift(Kg)')\n",
    "ax3.plot(f_class,f_deadlift,color='xkcd:coral', label='Female', marker = 'x')\n",
    "ax3.plot(m_class,m_deadlift,color='xkcd:azure', label='Male', marker = 'x')\n",
    "ax3.set_xlabel('Weight Class(Kg)')\n",
    "ax3.set_ylabel('Mean Best Lift(Kg)')\n",
    "\n",
    "plt.tight_layout()"
   ]
  },
  {
   "cell_type": "code",
   "execution_count": null,
   "metadata": {},
   "outputs": [],
   "source": []
  }
 ],
 "metadata": {
  "kernelspec": {
   "display_name": "Python 3",
   "language": "python",
   "name": "python3"
  },
  "language_info": {
   "codemirror_mode": {
    "name": "ipython",
    "version": 3
   },
   "file_extension": ".py",
   "mimetype": "text/x-python",
   "name": "python",
   "nbconvert_exporter": "python",
   "pygments_lexer": "ipython3",
   "version": "3.7.6"
  }
 },
 "nbformat": 4,
 "nbformat_minor": 2
}
