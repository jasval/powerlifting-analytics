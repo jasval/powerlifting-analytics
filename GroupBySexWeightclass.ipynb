{
 "cells": [
  {
   "cell_type": "code",
   "execution_count": 1,
   "metadata": {},
   "outputs": [],
   "source": [
    "import pandas as pd\n",
    "import numpy as np\n",
    "%matplotlib inline\n",
    "import matplotlib.pyplot as plt"
   ]
  },
  {
   "cell_type": "code",
   "execution_count": 2,
   "metadata": {},
   "outputs": [],
   "source": [
    "df = pd.read_csv('data.csv')"
   ]
  },
  {
   "cell_type": "code",
   "execution_count": 3,
   "metadata": {
    "scrolled": true
   },
   "outputs": [
    {
     "data": {
      "text/html": [
       "<div>\n",
       "<style scoped>\n",
       "    .dataframe tbody tr th:only-of-type {\n",
       "        vertical-align: middle;\n",
       "    }\n",
       "\n",
       "    .dataframe tbody tr th {\n",
       "        vertical-align: top;\n",
       "    }\n",
       "\n",
       "    .dataframe thead th {\n",
       "        text-align: right;\n",
       "    }\n",
       "</style>\n",
       "<table border=\"1\" class=\"dataframe\">\n",
       "  <thead>\n",
       "    <tr style=\"text-align: right;\">\n",
       "      <th></th>\n",
       "      <th>Best3SquatKg</th>\n",
       "      <th>Best3BenchKg</th>\n",
       "      <th>Best3DeadliftKg</th>\n",
       "    </tr>\n",
       "    <tr>\n",
       "      <th>Sex</th>\n",
       "      <th></th>\n",
       "      <th></th>\n",
       "      <th></th>\n",
       "    </tr>\n",
       "  </thead>\n",
       "  <tbody>\n",
       "    <tr>\n",
       "      <td>F</td>\n",
       "      <td>121.942519</td>\n",
       "      <td>71.785339</td>\n",
       "      <td>139.291356</td>\n",
       "    </tr>\n",
       "    <tr>\n",
       "      <td>M</td>\n",
       "      <td>220.816697</td>\n",
       "      <td>154.895566</td>\n",
       "      <td>235.793386</td>\n",
       "    </tr>\n",
       "  </tbody>\n",
       "</table>\n",
       "</div>"
      ],
      "text/plain": [
       "     Best3SquatKg  Best3BenchKg  Best3DeadliftKg\n",
       "Sex                                             \n",
       "F      121.942519     71.785339       139.291356\n",
       "M      220.816697    154.895566       235.793386"
      ]
     },
     "execution_count": 3,
     "metadata": {},
     "output_type": "execute_result"
    }
   ],
   "source": [
    "# Mean Best Lift(Kg) per Category by Sex\n",
    "group_sex = df[['Best3SquatKg','Best3BenchKg','Best3DeadliftKg']].groupby(df['Sex'])\n",
    "group_sex.mean()"
   ]
  },
  {
   "cell_type": "code",
   "execution_count": 4,
   "metadata": {},
   "outputs": [
    {
     "data": {
      "image/png": "[encoded data removed]",
      "text/plain": [
       "<Figure size 432x288 with 1 Axes>"
      ]
     },
     "metadata": {
      "needs_background": "light"
     },
     "output_type": "display_data"
    }
   ],
   "source": [
    "labels = ['Squat','Bench','Deadlift']\n",
    "f_means = [121.94,71.79,139.29]\n",
    "m_means = [220.82,154.90,235.79]\n",
    "\n",
    "x = np.arange(len(labels))\n",
    "width = 0.35\n",
    "\n",
    "fig, ax = plt.subplots()\n",
    "bars1 = ax.bar(x - width/2, m_means, width, label='Male',color='xkcd:azure')\n",
    "bars2 = ax.bar(x + width/2, f_means, width, label='Female',color='xkcd:coral')\n",
    "\n",
    "ax.set_ylabel('Mean Best Lift(Kg)')\n",
    "ax.set_title('Mean Best Lift(Kg) per Category by Sex')\n",
    "ax.set_xticks(x)\n",
    "ax.set_xticklabels(labels)\n",
    "ax.legend(bbox_to_anchor=(1.05,1),loc='upper left',borderaxespad=0)\n",
    "\n",
    "def autolabel(bars):\n",
    "    for bar in bars:\n",
    "        height = bar.get_height()\n",
    "        ax.annotate('{}'.format(height),\n",
    "                    xy=(bar.get_x() + bar.get_width()/2, height),\n",
    "                    xytext=(0,1),\n",
    "                    textcoords='offset points',\n",
    "                    ha='center', va='bottom')\n",
    "\n",
    "autolabel(bars1)\n",
    "autolabel(bars2)"
   ]
  },
  {
   "cell_type": "code",
   "execution_count": 5,
   "metadata": {
    "scrolled": false
   },
   "outputs": [
    {
     "data": {
      "text/html": [
       "<div>\n",
       "<style scoped>\n",
       "    .dataframe tbody tr th:only-of-type {\n",
       "        vertical-align: middle;\n",
       "    }\n",
       "\n",
       "    .dataframe tbody tr th {\n",
       "        vertical-align: top;\n",
       "    }\n",
       "\n",
       "    .dataframe thead th {\n",
       "        text-align: right;\n",
       "    }\n",
       "</style>\n",
       "<table border=\"1\" class=\"dataframe\">\n",
       "  <thead>\n",
       "    <tr style=\"text-align: right;\">\n",
       "      <th></th>\n",
       "      <th></th>\n",
       "      <th>Best3SquatKg</th>\n",
       "      <th>Best3BenchKg</th>\n",
       "      <th>Best3DeadliftKg</th>\n",
       "    </tr>\n",
       "    <tr>\n",
       "      <th>Sex</th>\n",
       "      <th>WeightClassKg</th>\n",
       "      <th></th>\n",
       "      <th></th>\n",
       "      <th></th>\n",
       "    </tr>\n",
       "  </thead>\n",
       "  <tbody>\n",
       "    <tr>\n",
       "      <td rowspan=\"8\" valign=\"top\">F</td>\n",
       "      <td>43</td>\n",
       "      <td>85.129648</td>\n",
       "      <td>49.113929</td>\n",
       "      <td>102.130997</td>\n",
       "    </tr>\n",
       "    <tr>\n",
       "      <td>47</td>\n",
       "      <td>102.195414</td>\n",
       "      <td>59.408407</td>\n",
       "      <td>116.772916</td>\n",
       "    </tr>\n",
       "    <tr>\n",
       "      <td>52</td>\n",
       "      <td>108.093575</td>\n",
       "      <td>62.734815</td>\n",
       "      <td>124.189550</td>\n",
       "    </tr>\n",
       "    <tr>\n",
       "      <td>57</td>\n",
       "      <td>111.752728</td>\n",
       "      <td>65.443928</td>\n",
       "      <td>129.409799</td>\n",
       "    </tr>\n",
       "    <tr>\n",
       "      <td>63</td>\n",
       "      <td>115.440464</td>\n",
       "      <td>67.920026</td>\n",
       "      <td>134.447380</td>\n",
       "    </tr>\n",
       "    <tr>\n",
       "      <td>72</td>\n",
       "      <td>122.374743</td>\n",
       "      <td>72.196422</td>\n",
       "      <td>141.053579</td>\n",
       "    </tr>\n",
       "    <tr>\n",
       "      <td>84</td>\n",
       "      <td>132.857284</td>\n",
       "      <td>78.701028</td>\n",
       "      <td>149.810466</td>\n",
       "    </tr>\n",
       "    <tr>\n",
       "      <td>84+</td>\n",
       "      <td>141.663810</td>\n",
       "      <td>84.285112</td>\n",
       "      <td>154.630788</td>\n",
       "    </tr>\n",
       "    <tr>\n",
       "      <td rowspan=\"9\" valign=\"top\">M</td>\n",
       "      <td>105</td>\n",
       "      <td>232.886773</td>\n",
       "      <td>164.573146</td>\n",
       "      <td>247.716811</td>\n",
       "    </tr>\n",
       "    <tr>\n",
       "      <td>120</td>\n",
       "      <td>253.230816</td>\n",
       "      <td>180.423497</td>\n",
       "      <td>259.955157</td>\n",
       "    </tr>\n",
       "    <tr>\n",
       "      <td>120+</td>\n",
       "      <td>280.051598</td>\n",
       "      <td>198.515949</td>\n",
       "      <td>273.227574</td>\n",
       "    </tr>\n",
       "    <tr>\n",
       "      <td>53</td>\n",
       "      <td>153.504846</td>\n",
       "      <td>100.273967</td>\n",
       "      <td>163.215351</td>\n",
       "    </tr>\n",
       "    <tr>\n",
       "      <td>59</td>\n",
       "      <td>161.972702</td>\n",
       "      <td>109.211388</td>\n",
       "      <td>179.646878</td>\n",
       "    </tr>\n",
       "    <tr>\n",
       "      <td>66</td>\n",
       "      <td>169.662231</td>\n",
       "      <td>114.826265</td>\n",
       "      <td>191.579116</td>\n",
       "    </tr>\n",
       "    <tr>\n",
       "      <td>74</td>\n",
       "      <td>184.255145</td>\n",
       "      <td>125.761460</td>\n",
       "      <td>206.760380</td>\n",
       "    </tr>\n",
       "    <tr>\n",
       "      <td>83</td>\n",
       "      <td>203.694710</td>\n",
       "      <td>139.530374</td>\n",
       "      <td>223.348950</td>\n",
       "    </tr>\n",
       "    <tr>\n",
       "      <td>93</td>\n",
       "      <td>215.579731</td>\n",
       "      <td>150.667000</td>\n",
       "      <td>234.709069</td>\n",
       "    </tr>\n",
       "  </tbody>\n",
       "</table>\n",
       "</div>"
      ],
      "text/plain": [
       "                   Best3SquatKg  Best3BenchKg  Best3DeadliftKg\n",
       "Sex WeightClassKg                                             \n",
       "F   43                85.129648     49.113929       102.130997\n",
       "    47               102.195414     59.408407       116.772916\n",
       "    52               108.093575     62.734815       124.189550\n",
       "    57               111.752728     65.443928       129.409799\n",
       "    63               115.440464     67.920026       134.447380\n",
       "    72               122.374743     72.196422       141.053579\n",
       "    84               132.857284     78.701028       149.810466\n",
       "    84+              141.663810     84.285112       154.630788\n",
       "M   105              232.886773    164.573146       247.716811\n",
       "    120              253.230816    180.423497       259.955157\n",
       "    120+             280.051598    198.515949       273.227574\n",
       "    53               153.504846    100.273967       163.215351\n",
       "    59               161.972702    109.211388       179.646878\n",
       "    66               169.662231    114.826265       191.579116\n",
       "    74               184.255145    125.761460       206.760380\n",
       "    83               203.694710    139.530374       223.348950\n",
       "    93               215.579731    150.667000       234.709069"
      ]
     },
     "execution_count": 5,
     "metadata": {},
     "output_type": "execute_result"
    }
   ],
   "source": [
    "# Mean Best Lift(Kg) per Category by Weight Class and Sex\n",
    "group_sex_weight = df[['Best3SquatKg','Best3BenchKg','Best3DeadliftKg']].groupby([df['Sex'],df['WeightClassKg']])\n",
    "group_sex_weight.mean()"
   ]
  },
  {
   "cell_type": "code",
   "execution_count": 6,
   "metadata": {},
   "outputs": [
    {
     "data": {
      "image/png": "[encoded data removed]",
      "text/plain": [
       "<Figure size 360x720 with 3 Axes>"
      ]
     },
     "metadata": {
      "needs_background": "light"
     },
     "output_type": "display_data"
    }
   ],
   "source": [
    "f_class = [43,47,52,57,63,72,84,100]\n",
    "f_squat = [85.13,102.20,108.09,111.75,115.44,122.37,132.86,141.66]\n",
    "f_bench = [49.11,59.41,62.73,65.44,67.92,72.20,78.70,84.29]\n",
    "f_deadlift = [102.13,116.77,124.19,129.41,134.45,141.05,149.81,154.63]\n",
    "m_class = [53,59,66,74,83,93,105,120,140]\n",
    "m_squat = [153.50,161.97,169.66,184.26,203.70,215.58,232.89,253.23,280.06]\n",
    "m_bench = [100.27,109.21,114.83,125.76,139.53,150.67,164.57,180.42,198.52]\n",
    "m_deadlift = [163.22,179.65,191.58,206.76,223.35,234.71,247.72,259.96,273.23]\n",
    "\n",
    "f, (ax1, ax2, ax3) = plt.subplots(3,1,figsize=(5,10), sharex=True)\n",
    "\n",
    "ax1.set_title('Squat(Kg)')\n",
    "ax1.scatter(f_class,f_squat,color='xkcd:coral', label='Female')\n",
    "ax1.scatter(m_class,m_squat,color='xkcd:azure', label='Male')\n",
    "ax1.set_xlabel('Weight Class(Kg)')\n",
    "ax1.set_ylabel('Mean Best Lift(Kg)')\n",
    "ax1.legend(bbox_to_anchor=(1.05,1),loc=0,borderaxespad=0)\n",
    "\n",
    "ax2.set_title('Bench(Kg)')\n",
    "ax2.scatter(f_class,f_bench,color='xkcd:coral', label='Female')\n",
    "ax2.scatter(m_class,m_bench,color='xkcd:azure', label='Male')\n",
    "ax2.set_xlabel('Weight Class(Kg)')\n",
    "ax2.set_ylabel('Mean Best Lift(Kg)')\n",
    "\n",
    "ax3.set_title('Deadlift(Kg)')\n",
    "ax3.scatter(f_class,f_deadlift,color='xkcd:coral', label='Female')\n",
    "ax3.scatter(m_class,m_deadlift,color='xkcd:azure', label='Male')\n",
    "ax3.set_xlabel('Weight Class(Kg)')\n",
    "ax3.set_ylabel('Mean Best Lift(Kg)')\n",
    "\n",
    "plt.tight_layout()"
   ]
  },
  {
   "cell_type": "code",
   "execution_count": null,
   "metadata": {},
   "outputs": [],
   "source": []
  }
 ],
 "metadata": {
  "kernelspec": {
   "display_name": "Python 3",
   "language": "python",
   "name": "python3"
  },
  "language_info": {
   "codemirror_mode": {
    "name": "ipython",
    "version": 3
   },
   "file_extension": ".py",
   "mimetype": "text/x-python",
   "name": "python",
   "nbconvert_exporter": "python",
   "pygments_lexer": "ipython3",
   "version": "3.7.4"
  }
 },
 "nbformat": 4,
 "nbformat_minor": 2
}
