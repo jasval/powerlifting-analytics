{
 "cells": [
  {
   "cell_type": "code",
   "execution_count": 1,
   "metadata": {},
   "outputs": [],
   "source": [
    "import pandas as pd\n",
    "import numpy as np\n",
    "%matplotlib inline\n",
    "import matplotlib.pyplot as plt"
   ]
  },
  {
   "cell_type": "code",
   "execution_count": 2,
   "metadata": {},
   "outputs": [],
   "source": [
    "data = pd.read_csv('data.csv')\n",
    "\n",
    "indexNames = data[data['Event'] == 'S'].index\n",
    "data.drop(indexNames, inplace=True)\n",
    "\n",
    "indexNames = data[data['Event'] == 'B'].index\n",
    "data.drop(indexNames, inplace=True)\n",
    "\n",
    "indexNames = data[data['Event'] == 'D'].index\n",
    "data.drop(indexNames, inplace=True)\n",
    "\n",
    "indexNames = data[data['Event'] == 'SD'].index\n",
    "data.drop(indexNames, inplace=True)\n",
    "\n",
    "indexNames = data[data['Event'] == 'SB'].index\n",
    "data.drop(indexNames, inplace=True)\n",
    "\n",
    "indexNames = data[data['Event'] == 'BD'].index\n",
    "data.drop(indexNames, inplace=True)"
   ]
  },
  {
   "cell_type": "code",
   "execution_count": 3,
   "metadata": {},
   "outputs": [
    {
     "data": {
      "text/plain": [
       "Sex\n",
       "F    112250\n",
       "M    283458\n",
       "Name: Sex, dtype: int64"
      ]
     },
     "execution_count": 3,
     "metadata": {},
     "output_type": "execute_result"
    }
   ],
   "source": [
    "sex_count = data['Sex'].groupby(data['Sex']).count()\n",
    "sex_count.head()"
   ]
  },
  {
   "cell_type": "code",
   "execution_count": 4,
   "metadata": {},
   "outputs": [
    {
     "data": {
      "image/png": "[encoded data removed]",
      "text/plain": [
       "<Figure size 432x288 with 1 Axes>"
      ]
     },
     "metadata": {},
     "output_type": "display_data"
    }
   ],
   "source": [
    "labels = ['Female','Male']\n",
    "colours = ['xkcd:coral','xkcd:azure']\n",
    "sizes = [112250,283458]\n",
    "\n",
    "fig, ax = plt.subplots()\n",
    "ax.set_title('Sex Distribution of Recorded Weightlifters')\n",
    "ax.pie(sizes, labels=labels,colors = colours, autopct='%1.1f%%',startangle=315)\n",
    "ax.axis('equal')\n",
    "\n",
    "plt.show()"
   ]
  },
  {
   "cell_type": "code",
   "execution_count": null,
   "metadata": {},
   "outputs": [],
   "source": []
  }
 ],
 "metadata": {
  "kernelspec": {
   "display_name": "Python 3",
   "language": "python",
   "name": "python3"
  },
  "language_info": {
   "codemirror_mode": {
    "name": "ipython",
    "version": 3
   },
   "file_extension": ".py",
   "mimetype": "text/x-python",
   "name": "python",
   "nbconvert_exporter": "python",
   "pygments_lexer": "ipython3",
   "version": "3.7.6"
  }
 },
 "nbformat": 4,
 "nbformat_minor": 2
}
